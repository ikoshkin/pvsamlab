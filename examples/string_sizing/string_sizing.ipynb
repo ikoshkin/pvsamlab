{
 "cells": [
  {
   "cell_type": "code",
   "execution_count": 1,
   "metadata": {},
   "outputs": [],
   "source": [
    "import subprocess\n",
    "import os\n",
    "import time\n",
    "import threading\n",
    "import IPython.display as display\n",
    "import ipywidgets as widgets\n",
    "\n",
    "import pandas as pd\n",
    "import seaborn as sns\n",
    "import matplotlib as mpl\n",
    "import matplotlib.pyplot as plt\n"
   ]
  },
  {
   "cell_type": "code",
   "execution_count": 2,
   "metadata": {},
   "outputs": [
    {
     "name": "stdout",
     "output_type": "stream",
     "text": [
      "🚀 Script started with PID: 44220. Output is logging to: log.txt\n"
     ]
    },
    {
     "data": {
      "application/vnd.jupyter.widget-view+json": {
       "model_id": "450b573055ad41248c4e92a413dc2131",
       "version_major": 2,
       "version_minor": 0
      },
      "text/plain": [
       "Button(button_style='danger', description='🛑 Stop Script', style=ButtonStyle())"
      ]
     },
     "metadata": {},
     "output_type": "display_data"
    },
    {
     "data": {
      "application/vnd.jupyter.widget-view+json": {
       "model_id": "9dd02f19a6d84464a6889d672cf0e0f4",
       "version_major": 2,
       "version_minor": 0
      },
      "text/plain": [
       "Output()"
      ]
     },
     "metadata": {},
     "output_type": "display_data"
    }
   ],
   "source": [
    "# -----------------------\n",
    "# SETTINGS\n",
    "# -----------------------\n",
    "script = \"parallel_string_sizing.py\"\n",
    "log_file = \"log.txt\"\n",
    "\n",
    "# -----------------------\n",
    "# LAUNCH SCRIPT\n",
    "# -----------------------\n",
    "with open(log_file, \"w\") as logfile:\n",
    "    process = subprocess.Popen(\n",
    "        [\"python\", script],\n",
    "        stdout=logfile,\n",
    "        stderr=subprocess.STDOUT\n",
    "    )\n",
    "\n",
    "pid = process.pid\n",
    "print(f\"🚀 Script started with PID: {pid}. Output is logging to: {log_file}\")\n",
    "\n",
    "# -----------------------\n",
    "# STOP BUTTON\n",
    "# -----------------------\n",
    "stop_btn = widgets.Button(description=\"🛑 Stop Script\", button_style='danger')\n",
    "\n",
    "def stop_script(b):\n",
    "    process.terminate()\n",
    "    print(f\"🔴 Terminated script with PID {pid}\")\n",
    "\n",
    "stop_btn.on_click(stop_script)\n",
    "display.display(stop_btn)\n",
    "\n",
    "# -----------------------\n",
    "# LIVE LOG DISPLAY (last 10 lines)\n",
    "# -----------------------\n",
    "log_output = widgets.Output()\n",
    "display.display(log_output)\n",
    "\n",
    "def update_log_display():\n",
    "    while process.poll() is None:\n",
    "        with log_output:\n",
    "            log_output.clear_output(wait=True)\n",
    "            try:\n",
    "                with open(log_file, \"r\") as f:\n",
    "                    lines = f.readlines()[-10:]\n",
    "                    print(\"\".join(lines))\n",
    "            except:\n",
    "                print(\"Waiting for log...\")\n",
    "        time.sleep(2)\n",
    "\n",
    "# Start background thread to monitor log\n",
    "threading.Thread(target=update_log_display, daemon=True).start()\n"
   ]
  },
  {
   "cell_type": "code",
   "execution_count": 3,
   "metadata": {},
   "outputs": [
    {
     "data": {
      "application/vnd.microsoft.datawrangler.viewer.v0+json": {
       "columns": [
        {
         "name": "index",
         "rawType": "int64",
         "type": "integer"
        },
        {
         "name": "Module",
         "rawType": "object",
         "type": "string"
        },
        {
         "name": "Year",
         "rawType": "int64",
         "type": "integer"
        },
        {
         "name": "ModulesPerString",
         "rawType": "int64",
         "type": "integer"
        },
        {
         "name": "VocMax",
         "rawType": "float64",
         "type": "float"
        }
       ],
       "conversionMethod": "pd.DataFrame",
       "ref": "f2ed38a5-c1f9-420f-ab87-4e73d86e02e7",
       "rows": [
        [
         "472",
         "LR5-72HBD-560M",
         "2012",
         "25",
         "1297.35"
        ],
        [
         "398",
         "LR5-72HBD-555M",
         "2019",
         "26",
         "1375.9"
        ],
        [
         "101",
         "LR5-72HBD-540M",
         "2023",
         "25",
         "1269.59"
        ],
        [
         "330",
         "LR5-72HBD-555M",
         "2002",
         "27",
         "1405.42"
        ],
        [
         "210",
         "LR5-72HBD-550M",
         "1998",
         "27",
         "1388.15"
        ],
        [
         "306",
         "LR5-72HBD-550M",
         "2022",
         "27",
         "1432.16"
        ],
        [
         "564",
         "LR5-72HBD-565M",
         "2009",
         "25",
         "1316.56"
        ],
        [
         "469",
         "LR5-72HBD-560M",
         "2011",
         "26",
         "1356.97"
        ],
        [
         "616",
         "LR5-72HBD-565M",
         "2022",
         "25",
         "1338.01"
        ],
        [
         "251",
         "LR5-72HBD-550M",
         "2008",
         "28",
         "1453.45"
        ]
       ],
       "shape": {
        "columns": 4,
        "rows": 10
       }
      },
      "text/html": [
       "<div>\n",
       "<style scoped>\n",
       "    .dataframe tbody tr th:only-of-type {\n",
       "        vertical-align: middle;\n",
       "    }\n",
       "\n",
       "    .dataframe tbody tr th {\n",
       "        vertical-align: top;\n",
       "    }\n",
       "\n",
       "    .dataframe thead th {\n",
       "        text-align: right;\n",
       "    }\n",
       "</style>\n",
       "<table border=\"1\" class=\"dataframe\">\n",
       "  <thead>\n",
       "    <tr style=\"text-align: right;\">\n",
       "      <th></th>\n",
       "      <th>Module</th>\n",
       "      <th>Year</th>\n",
       "      <th>ModulesPerString</th>\n",
       "      <th>VocMax</th>\n",
       "    </tr>\n",
       "  </thead>\n",
       "  <tbody>\n",
       "    <tr>\n",
       "      <th>472</th>\n",
       "      <td>LR5-72HBD-560M</td>\n",
       "      <td>2012</td>\n",
       "      <td>25</td>\n",
       "      <td>1297.35</td>\n",
       "    </tr>\n",
       "    <tr>\n",
       "      <th>398</th>\n",
       "      <td>LR5-72HBD-555M</td>\n",
       "      <td>2019</td>\n",
       "      <td>26</td>\n",
       "      <td>1375.90</td>\n",
       "    </tr>\n",
       "    <tr>\n",
       "      <th>101</th>\n",
       "      <td>LR5-72HBD-540M</td>\n",
       "      <td>2023</td>\n",
       "      <td>25</td>\n",
       "      <td>1269.59</td>\n",
       "    </tr>\n",
       "    <tr>\n",
       "      <th>330</th>\n",
       "      <td>LR5-72HBD-555M</td>\n",
       "      <td>2002</td>\n",
       "      <td>27</td>\n",
       "      <td>1405.42</td>\n",
       "    </tr>\n",
       "    <tr>\n",
       "      <th>210</th>\n",
       "      <td>LR5-72HBD-550M</td>\n",
       "      <td>1998</td>\n",
       "      <td>27</td>\n",
       "      <td>1388.15</td>\n",
       "    </tr>\n",
       "    <tr>\n",
       "      <th>306</th>\n",
       "      <td>LR5-72HBD-550M</td>\n",
       "      <td>2022</td>\n",
       "      <td>27</td>\n",
       "      <td>1432.16</td>\n",
       "    </tr>\n",
       "    <tr>\n",
       "      <th>564</th>\n",
       "      <td>LR5-72HBD-565M</td>\n",
       "      <td>2009</td>\n",
       "      <td>25</td>\n",
       "      <td>1316.56</td>\n",
       "    </tr>\n",
       "    <tr>\n",
       "      <th>469</th>\n",
       "      <td>LR5-72HBD-560M</td>\n",
       "      <td>2011</td>\n",
       "      <td>26</td>\n",
       "      <td>1356.97</td>\n",
       "    </tr>\n",
       "    <tr>\n",
       "      <th>616</th>\n",
       "      <td>LR5-72HBD-565M</td>\n",
       "      <td>2022</td>\n",
       "      <td>25</td>\n",
       "      <td>1338.01</td>\n",
       "    </tr>\n",
       "    <tr>\n",
       "      <th>251</th>\n",
       "      <td>LR5-72HBD-550M</td>\n",
       "      <td>2008</td>\n",
       "      <td>28</td>\n",
       "      <td>1453.45</td>\n",
       "    </tr>\n",
       "  </tbody>\n",
       "</table>\n",
       "</div>"
      ],
      "text/plain": [
       "             Module  Year  ModulesPerString   VocMax\n",
       "472  LR5-72HBD-560M  2012                25  1297.35\n",
       "398  LR5-72HBD-555M  2019                26  1375.90\n",
       "101  LR5-72HBD-540M  2023                25  1269.59\n",
       "330  LR5-72HBD-555M  2002                27  1405.42\n",
       "210  LR5-72HBD-550M  1998                27  1388.15\n",
       "306  LR5-72HBD-550M  2022                27  1432.16\n",
       "564  LR5-72HBD-565M  2009                25  1316.56\n",
       "469  LR5-72HBD-560M  2011                26  1356.97\n",
       "616  LR5-72HBD-565M  2022                25  1338.01\n",
       "251  LR5-72HBD-550M  2008                28  1453.45"
      ]
     },
     "execution_count": 3,
     "metadata": {},
     "output_type": "execute_result"
    }
   ],
   "source": [
    "# Load your simulation results\n",
    "df = pd.read_csv(\"string_sizing_results.csv\")\n",
    "\n",
    "# Preview\n",
    "df.sample(10)\n"
   ]
  },
  {
   "cell_type": "code",
   "execution_count": 4,
   "metadata": {},
   "outputs": [],
   "source": [
    "df[\"ExceedsLimit\"] = df[\"VocMax\"] > 1500\n"
   ]
  },
  {
   "cell_type": "code",
   "execution_count": 5,
   "metadata": {},
   "outputs": [],
   "source": [
    "# Create a pivot table of max Voc across all years\n",
    "pivot = df.pivot_table(index='Module',\n",
    "                       columns='ModulesPerString',\n",
    "                       values='VocMax',\n",
    "                       aggfunc='max')\n",
    "\n",
    "# Optional: sort modules alphabetically\n",
    "pivot = pivot.sort_index()\n"
   ]
  },
  {
   "cell_type": "code",
   "execution_count": 6,
   "metadata": {},
   "outputs": [],
   "source": [
    "# Add a helper column to highlight rows with any Voc > 1500V\n",
    "pivot[\"Any_Over_1500V\"] = (pivot > 1500).any(axis=1)\n"
   ]
  },
  {
   "cell_type": "code",
   "execution_count": null,
   "metadata": {},
   "outputs": [],
   "source": []
  },
  {
   "cell_type": "code",
   "execution_count": 7,
   "metadata": {},
   "outputs": [
    {
     "name": "stdout",
     "output_type": "stream",
     "text": [
      "✅ Saved: pivot_summary_by_module.csv\n"
     ]
    },
    {
     "data": {
      "application/vnd.microsoft.datawrangler.viewer.v0+json": {
       "columns": [
        {
         "name": "Module",
         "rawType": "object",
         "type": "string"
        },
        {
         "name": "25",
         "rawType": "float64",
         "type": "float"
        },
        {
         "name": "26",
         "rawType": "float64",
         "type": "float"
        },
        {
         "name": "27",
         "rawType": "float64",
         "type": "float"
        },
        {
         "name": "28",
         "rawType": "float64",
         "type": "float"
        },
        {
         "name": "Any_Over_1500V",
         "rawType": "bool",
         "type": "boolean"
        }
       ],
       "conversionMethod": "pd.DataFrame",
       "ref": "ebdaa088-b941-4d81-9833-44d527f13a80",
       "rows": [
        [
         "LR5-72HBD-540M",
         "1324.9",
         "1377.89",
         "1430.89",
         "1483.89",
         "False"
        ],
        [
         "LR5-72HBD-545M",
         "1328.99",
         "1382.15",
         "1435.31",
         "1488.47",
         "False"
        ],
        [
         "LR5-72HBD-550M",
         "1333.06",
         "1386.38",
         "1439.71",
         "1493.03",
         "False"
        ],
        [
         "LR5-72HBD-555M",
         "1337.32",
         "1390.82",
         "1444.31",
         "1497.8",
         "False"
        ],
        [
         "LR5-72HBD-560M",
         "1341.26",
         "1394.91",
         "1448.57",
         "1502.22",
         "True"
        ],
        [
         "LR5-72HBD-565M",
         "1345.28",
         "1399.09",
         "1452.9",
         "1506.71",
         "True"
        ]
       ],
       "shape": {
        "columns": 5,
        "rows": 6
       }
      },
      "text/html": [
       "<div>\n",
       "<style scoped>\n",
       "    .dataframe tbody tr th:only-of-type {\n",
       "        vertical-align: middle;\n",
       "    }\n",
       "\n",
       "    .dataframe tbody tr th {\n",
       "        vertical-align: top;\n",
       "    }\n",
       "\n",
       "    .dataframe thead th {\n",
       "        text-align: right;\n",
       "    }\n",
       "</style>\n",
       "<table border=\"1\" class=\"dataframe\">\n",
       "  <thead>\n",
       "    <tr style=\"text-align: right;\">\n",
       "      <th>ModulesPerString</th>\n",
       "      <th>25</th>\n",
       "      <th>26</th>\n",
       "      <th>27</th>\n",
       "      <th>28</th>\n",
       "      <th>Any_Over_1500V</th>\n",
       "    </tr>\n",
       "    <tr>\n",
       "      <th>Module</th>\n",
       "      <th></th>\n",
       "      <th></th>\n",
       "      <th></th>\n",
       "      <th></th>\n",
       "      <th></th>\n",
       "    </tr>\n",
       "  </thead>\n",
       "  <tbody>\n",
       "    <tr>\n",
       "      <th>LR5-72HBD-540M</th>\n",
       "      <td>1324.90</td>\n",
       "      <td>1377.89</td>\n",
       "      <td>1430.89</td>\n",
       "      <td>1483.89</td>\n",
       "      <td>False</td>\n",
       "    </tr>\n",
       "    <tr>\n",
       "      <th>LR5-72HBD-545M</th>\n",
       "      <td>1328.99</td>\n",
       "      <td>1382.15</td>\n",
       "      <td>1435.31</td>\n",
       "      <td>1488.47</td>\n",
       "      <td>False</td>\n",
       "    </tr>\n",
       "    <tr>\n",
       "      <th>LR5-72HBD-550M</th>\n",
       "      <td>1333.06</td>\n",
       "      <td>1386.38</td>\n",
       "      <td>1439.71</td>\n",
       "      <td>1493.03</td>\n",
       "      <td>False</td>\n",
       "    </tr>\n",
       "    <tr>\n",
       "      <th>LR5-72HBD-555M</th>\n",
       "      <td>1337.32</td>\n",
       "      <td>1390.82</td>\n",
       "      <td>1444.31</td>\n",
       "      <td>1497.80</td>\n",
       "      <td>False</td>\n",
       "    </tr>\n",
       "    <tr>\n",
       "      <th>LR5-72HBD-560M</th>\n",
       "      <td>1341.26</td>\n",
       "      <td>1394.91</td>\n",
       "      <td>1448.57</td>\n",
       "      <td>1502.22</td>\n",
       "      <td>True</td>\n",
       "    </tr>\n",
       "    <tr>\n",
       "      <th>LR5-72HBD-565M</th>\n",
       "      <td>1345.28</td>\n",
       "      <td>1399.09</td>\n",
       "      <td>1452.90</td>\n",
       "      <td>1506.71</td>\n",
       "      <td>True</td>\n",
       "    </tr>\n",
       "  </tbody>\n",
       "</table>\n",
       "</div>"
      ],
      "text/plain": [
       "ModulesPerString       25       26       27       28  Any_Over_1500V\n",
       "Module                                                              \n",
       "LR5-72HBD-540M    1324.90  1377.89  1430.89  1483.89           False\n",
       "LR5-72HBD-545M    1328.99  1382.15  1435.31  1488.47           False\n",
       "LR5-72HBD-550M    1333.06  1386.38  1439.71  1493.03           False\n",
       "LR5-72HBD-555M    1337.32  1390.82  1444.31  1497.80           False\n",
       "LR5-72HBD-560M    1341.26  1394.91  1448.57  1502.22            True\n",
       "LR5-72HBD-565M    1345.28  1399.09  1452.90  1506.71            True"
      ]
     },
     "execution_count": 7,
     "metadata": {},
     "output_type": "execute_result"
    }
   ],
   "source": [
    "pivot.to_csv(\"pivot_summary_by_module.csv\") \n",
    "print(\"✅ Saved: pivot_summary_by_module.csv\")\n",
    "pivot.head(10)\n"
   ]
  },
  {
   "cell_type": "code",
   "execution_count": null,
   "metadata": {},
   "outputs": [],
   "source": [
    "# Load into DataFrame\n",
    "import seaborn as sns\n",
    "import matplotlib.pyplot as plt\n",
    "\n",
    "\n",
    "# Set seaborn style\n",
    "sns.set(style=\"darkgrid\")\n",
    "\n",
    "# FacetGrid with lineplot\n",
    "g = sns.FacetGrid(df, col=\"Module\", col_wrap=1, height=5, aspect=1.5)\n",
    "g.map_dataframe(sns.lineplot, x=\"Year\", y=\"VocMax\", hue=\"ModulesPerString\", palette=\"tab10\", marker=\"o\")\n",
    "\n",
    "# Add legend and labels\n",
    "g.add_legend(title=\"ModulesPerString\")\n",
    "g.set_titles(row_template=\"{row_name}\")\n",
    "g.set_axis_labels(\"Year\", \"VocMax\")\n",
    "plt.tight_layout()\n",
    "plt.show()\n"
   ]
  },
  {
   "cell_type": "code",
   "execution_count": null,
   "metadata": {},
   "outputs": [],
   "source": [
    "f, ax = plt.subplots(figsize=(7, 5))\n",
    "sns.despine(f)\n",
    "\n",
    "sns.histplot(\n",
    "    df,\n",
    "    x=\"VocMax\", hue=\"ModulesPerString\",\n",
    "    multiple=\"stack\",\n",
    "    palette=\"light:m_r\",\n",
    "    edgecolor=\".3\",\n",
    "    linewidth=.5,\n",
    "    log_scale=True,\n",
    ")\n",
    "ax.xaxis.set_major_formatter(mpl.ticker.ScalarFormatter())\n",
    "# ax.set_xticks([500, 1000, 2000, 5000, 10000])"
   ]
  },
  {
   "cell_type": "code",
   "execution_count": null,
   "metadata": {},
   "outputs": [],
   "source": []
  }
 ],
 "metadata": {
  "kernelspec": {
   "display_name": "py313",
   "language": "python",
   "name": "python3"
  },
  "language_info": {
   "codemirror_mode": {
    "name": "ipython",
    "version": 3
   },
   "file_extension": ".py",
   "mimetype": "text/x-python",
   "name": "python",
   "nbconvert_exporter": "python",
   "pygments_lexer": "ipython3",
   "version": "3.13.2"
  }
 },
 "nbformat": 4,
 "nbformat_minor": 2
}
