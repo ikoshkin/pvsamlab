{
 "cells": [
  {
   "cell_type": "code",
   "execution_count": 6,
   "metadata": {},
   "outputs": [],
   "source": [
    "import subprocess\n",
    "import os\n",
    "import time\n",
    "import threading\n",
    "import IPython.display as display\n",
    "import ipywidgets as widgets\n",
    "\n",
    "import seaborn as sns\n",
    "import matplotlib as mpl\n",
    "import matplotlib.pyplot as plt\n"
   ]
  },
  {
   "cell_type": "code",
   "execution_count": null,
   "metadata": {},
   "outputs": [],
   "source": [
    "# -----------------------\n",
    "# SETTINGS\n",
    "# -----------------------\n",
    "script = \"parallel_string_sizing.py\"\n",
    "log_file = \"log.txt\"\n",
    "\n",
    "# -----------------------\n",
    "# LAUNCH SCRIPT\n",
    "# -----------------------\n",
    "with open(log_file, \"w\") as logfile:\n",
    "    process = subprocess.Popen(\n",
    "        [\"python\", script],\n",
    "        stdout=logfile,\n",
    "        stderr=subprocess.STDOUT\n",
    "    )\n",
    "\n",
    "pid = process.pid\n",
    "print(f\"🚀 Script started with PID: {pid}. Output is logging to: {log_file}\")\n",
    "\n",
    "# -----------------------\n",
    "# STOP BUTTON\n",
    "# -----------------------\n",
    "stop_btn = widgets.Button(description=\"🛑 Stop Script\", button_style='danger')\n",
    "\n",
    "def stop_script(b):\n",
    "    process.terminate()\n",
    "    print(f\"🔴 Terminated script with PID {pid}\")\n",
    "\n",
    "stop_btn.on_click(stop_script)\n",
    "display.display(stop_btn)\n",
    "\n",
    "# -----------------------\n",
    "# LIVE LOG DISPLAY (last 10 lines)\n",
    "# -----------------------\n",
    "log_output = widgets.Output()\n",
    "display.display(log_output)\n",
    "\n",
    "def update_log_display():\n",
    "    while process.poll() is None:\n",
    "        with log_output:\n",
    "            log_output.clear_output(wait=True)\n",
    "            try:\n",
    "                with open(log_file, \"r\") as f:\n",
    "                    lines = f.readlines()[-10:]\n",
    "                    print(\"\".join(lines))\n",
    "            except:\n",
    "                print(\"Waiting for log...\")\n",
    "        time.sleep(2)\n",
    "\n",
    "# Start background thread to monitor log\n",
    "threading.Thread(target=update_log_display, daemon=True).start()\n"
   ]
  },
  {
   "cell_type": "code",
   "execution_count": 4,
   "metadata": {},
   "outputs": [
    {
     "data": {
      "application/vnd.microsoft.datawrangler.viewer.v0+json": {
       "columns": [
        {
         "name": "index",
         "rawType": "int64",
         "type": "integer"
        },
        {
         "name": "Module",
         "rawType": "object",
         "type": "string"
        },
        {
         "name": "Year",
         "rawType": "int64",
         "type": "integer"
        },
        {
         "name": "ModulesPerString",
         "rawType": "int64",
         "type": "integer"
        },
        {
         "name": "VocMax",
         "rawType": "float64",
         "type": "float"
        }
       ],
       "conversionMethod": "pd.DataFrame",
       "ref": "e83b313d-08bc-43de-b683-19d06a0fdd7f",
       "rows": [
        [
         "239",
         "JAM66D45-630/LB(3.2+2.0mm)",
         "2011",
         "31",
         "1586.81"
        ],
        [
         "409",
         "JAM66D45-635/LB(3.2+2.0mm)",
         "2014",
         "29",
         "1474.77"
        ],
        [
         "422",
         "JAM66D45-635/LB(3.2+2.0mm)",
         "2016",
         "28",
         "1413.62"
        ],
        [
         "251",
         "JAM66D45-630/LB(3.2+2.0mm)",
         "2013",
         "32",
         "1610.7"
        ],
        [
         "59",
         "JAM66D45-620/LB(3.2+2.0mm)",
         "2008",
         "28",
         "1388.74"
        ],
        [
         "485",
         "JAM66D45-625/LB(3.2+2.0mm)",
         "2000",
         "32",
         "1583.97"
        ],
        [
         "468",
         "JAM66D45-625/LB(3.2+2.0mm)",
         "1998",
         "27",
         "1344.97"
        ],
        [
         "103",
         "JAM66D45-620/LB(3.2+2.0mm)",
         "2015",
         "28",
         "1395.14"
        ],
        [
         "283",
         "JAM66D45-630/LB(3.2+2.0mm)",
         "2019",
         "28",
         "1402.37"
        ],
        [
         "410",
         "JAM66D45-635/LB(3.2+2.0mm)",
         "2014",
         "28",
         "1423.92"
        ]
       ],
       "shape": {
        "columns": 4,
        "rows": 10
       }
      },
      "text/html": [
       "<div>\n",
       "<style scoped>\n",
       "    .dataframe tbody tr th:only-of-type {\n",
       "        vertical-align: middle;\n",
       "    }\n",
       "\n",
       "    .dataframe tbody tr th {\n",
       "        vertical-align: top;\n",
       "    }\n",
       "\n",
       "    .dataframe thead th {\n",
       "        text-align: right;\n",
       "    }\n",
       "</style>\n",
       "<table border=\"1\" class=\"dataframe\">\n",
       "  <thead>\n",
       "    <tr style=\"text-align: right;\">\n",
       "      <th></th>\n",
       "      <th>Module</th>\n",
       "      <th>Year</th>\n",
       "      <th>ModulesPerString</th>\n",
       "      <th>VocMax</th>\n",
       "    </tr>\n",
       "  </thead>\n",
       "  <tbody>\n",
       "    <tr>\n",
       "      <th>239</th>\n",
       "      <td>JAM66D45-630/LB(3.2+2.0mm)</td>\n",
       "      <td>2011</td>\n",
       "      <td>31</td>\n",
       "      <td>1586.81</td>\n",
       "    </tr>\n",
       "    <tr>\n",
       "      <th>409</th>\n",
       "      <td>JAM66D45-635/LB(3.2+2.0mm)</td>\n",
       "      <td>2014</td>\n",
       "      <td>29</td>\n",
       "      <td>1474.77</td>\n",
       "    </tr>\n",
       "    <tr>\n",
       "      <th>422</th>\n",
       "      <td>JAM66D45-635/LB(3.2+2.0mm)</td>\n",
       "      <td>2016</td>\n",
       "      <td>28</td>\n",
       "      <td>1413.62</td>\n",
       "    </tr>\n",
       "    <tr>\n",
       "      <th>251</th>\n",
       "      <td>JAM66D45-630/LB(3.2+2.0mm)</td>\n",
       "      <td>2013</td>\n",
       "      <td>32</td>\n",
       "      <td>1610.70</td>\n",
       "    </tr>\n",
       "    <tr>\n",
       "      <th>59</th>\n",
       "      <td>JAM66D45-620/LB(3.2+2.0mm)</td>\n",
       "      <td>2008</td>\n",
       "      <td>28</td>\n",
       "      <td>1388.74</td>\n",
       "    </tr>\n",
       "    <tr>\n",
       "      <th>485</th>\n",
       "      <td>JAM66D45-625/LB(3.2+2.0mm)</td>\n",
       "      <td>2000</td>\n",
       "      <td>32</td>\n",
       "      <td>1583.97</td>\n",
       "    </tr>\n",
       "    <tr>\n",
       "      <th>468</th>\n",
       "      <td>JAM66D45-625/LB(3.2+2.0mm)</td>\n",
       "      <td>1998</td>\n",
       "      <td>27</td>\n",
       "      <td>1344.97</td>\n",
       "    </tr>\n",
       "    <tr>\n",
       "      <th>103</th>\n",
       "      <td>JAM66D45-620/LB(3.2+2.0mm)</td>\n",
       "      <td>2015</td>\n",
       "      <td>28</td>\n",
       "      <td>1395.14</td>\n",
       "    </tr>\n",
       "    <tr>\n",
       "      <th>283</th>\n",
       "      <td>JAM66D45-630/LB(3.2+2.0mm)</td>\n",
       "      <td>2019</td>\n",
       "      <td>28</td>\n",
       "      <td>1402.37</td>\n",
       "    </tr>\n",
       "    <tr>\n",
       "      <th>410</th>\n",
       "      <td>JAM66D45-635/LB(3.2+2.0mm)</td>\n",
       "      <td>2014</td>\n",
       "      <td>28</td>\n",
       "      <td>1423.92</td>\n",
       "    </tr>\n",
       "  </tbody>\n",
       "</table>\n",
       "</div>"
      ],
      "text/plain": [
       "                         Module  Year  ModulesPerString   VocMax\n",
       "239  JAM66D45-630/LB(3.2+2.0mm)  2011                31  1586.81\n",
       "409  JAM66D45-635/LB(3.2+2.0mm)  2014                29  1474.77\n",
       "422  JAM66D45-635/LB(3.2+2.0mm)  2016                28  1413.62\n",
       "251  JAM66D45-630/LB(3.2+2.0mm)  2013                32  1610.70\n",
       "59   JAM66D45-620/LB(3.2+2.0mm)  2008                28  1388.74\n",
       "485  JAM66D45-625/LB(3.2+2.0mm)  2000                32  1583.97\n",
       "468  JAM66D45-625/LB(3.2+2.0mm)  1998                27  1344.97\n",
       "103  JAM66D45-620/LB(3.2+2.0mm)  2015                28  1395.14\n",
       "283  JAM66D45-630/LB(3.2+2.0mm)  2019                28  1402.37\n",
       "410  JAM66D45-635/LB(3.2+2.0mm)  2014                28  1423.92"
      ]
     },
     "execution_count": 4,
     "metadata": {},
     "output_type": "execute_result"
    }
   ],
   "source": [
    "# Load your simulation results\n",
    "df = pd.read_csv(\"string_sizing_results.csv\")\n",
    "\n",
    "# Preview\n",
    "df.sample(10)\n"
   ]
  },
  {
   "cell_type": "code",
   "execution_count": null,
   "metadata": {},
   "outputs": [],
   "source": [
    "df[\"ExceedsLimit\"] = df[\"VocMax\"] > 1500\n"
   ]
  },
  {
   "cell_type": "code",
   "execution_count": null,
   "metadata": {},
   "outputs": [],
   "source": [
    "# Create a pivot table of max Voc across all years\n",
    "pivot = df.pivot_table(index='Module',\n",
    "                       columns='ModulesPerString',\n",
    "                       values='VocMax',\n",
    "                       aggfunc='max')\n",
    "\n",
    "# Optional: sort modules alphabetically\n",
    "pivot = pivot.sort_index()\n"
   ]
  },
  {
   "cell_type": "code",
   "execution_count": null,
   "metadata": {},
   "outputs": [],
   "source": [
    "# Add a helper column to highlight rows with any Voc > 1500V\n",
    "pivot[\"Any_Over_1500V\"] = (pivot > 1500).any(axis=1)\n"
   ]
  },
  {
   "cell_type": "code",
   "execution_count": null,
   "metadata": {},
   "outputs": [],
   "source": [
    "pivot.to_csv(\"pivot_summary_by_module.csv\")\n",
    "print(\"✅ Saved: pivot_summary_by_module.csv\")\n",
    "pivot.head(10)\n"
   ]
  },
  {
   "cell_type": "code",
   "execution_count": null,
   "metadata": {},
   "outputs": [],
   "source": [
    "# Load into DataFrame\n",
    "import seaborn as sns\n",
    "import matplotlib.pyplot as plt\n",
    "\n",
    "\n",
    "# Set seaborn style\n",
    "sns.set(style=\"darkgrid\")\n",
    "\n",
    "# FacetGrid with lineplot\n",
    "g = sns.FacetGrid(df, col=\"Module\", col_wrap=1, height=5, aspect=1.5)\n",
    "g.map_dataframe(sns.lineplot, x=\"Year\", y=\"VocMax\", hue=\"ModulesPerString\", palette=\"tab10\", marker=\"o\")\n",
    "\n",
    "# Add legend and labels\n",
    "g.add_legend(title=\"ModulesPerString\")\n",
    "g.set_titles(row_template=\"{row_name}\")\n",
    "g.set_axis_labels(\"Year\", \"VocMax\")\n",
    "plt.tight_layout()\n",
    "plt.show()\n"
   ]
  },
  {
   "cell_type": "code",
   "execution_count": 8,
   "metadata": {},
   "outputs": [
    {
     "data": {
      "image/png": "[encoded data removed]",
      "text/plain": [
       "<Figure size 700x500 with 1 Axes>"
      ]
     },
     "metadata": {},
     "output_type": "display_data"
    }
   ],
   "source": [
    "f, ax = plt.subplots(figsize=(7, 5))\n",
    "sns.despine(f)\n",
    "\n",
    "sns.histplot(\n",
    "    df,\n",
    "    x=\"VocMax\", hue=\"ModulesPerString\",\n",
    "    multiple=\"stack\",\n",
    "    palette=\"light:m_r\",\n",
    "    edgecolor=\".3\",\n",
    "    linewidth=.5,\n",
    "    log_scale=True,\n",
    ")\n",
    "ax.xaxis.set_major_formatter(mpl.ticker.ScalarFormatter())\n",
    "# ax.set_xticks([500, 1000, 2000, 5000, 10000])"
   ]
  },
  {
   "cell_type": "code",
   "execution_count": null,
   "metadata": {},
   "outputs": [],
   "source": []
  }
 ],
 "metadata": {
  "kernelspec": {
   "display_name": "py313",
   "language": "python",
   "name": "python3"
  },
  "language_info": {
   "codemirror_mode": {
    "name": "ipython",
    "version": 3
   },
   "file_extension": ".py",
   "mimetype": "text/x-python",
   "name": "python",
   "nbconvert_exporter": "python",
   "pygments_lexer": "ipython3",
   "version": "3.13.2"
  }
 },
 "nbformat": 4,
 "nbformat_minor": 2
}
