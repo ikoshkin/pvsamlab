{
 "cells": [
  {
   "cell_type": "code",
   "execution_count": 1,
   "metadata": {},
   "outputs": [],
   "source": [
    "import subprocess\n",
    "import os\n",
    "import time\n",
    "import threading\n",
    "import IPython.display as display\n",
    "import ipywidgets as widgets\n",
    "\n",
    "import pandas as pd\n",
    "import seaborn as sns\n",
    "import matplotlib as mpl\n",
    "import matplotlib.pyplot as plt\n"
   ]
  },
  {
   "cell_type": "code",
   "execution_count": 2,
   "metadata": {},
   "outputs": [
    {
     "name": "stdout",
     "output_type": "stream",
     "text": [
      "🚀 Script started with PID: 49603. Output is logging to: log.txt\n"
     ]
    },
    {
     "data": {
      "application/vnd.jupyter.widget-view+json": {
       "model_id": "d698004d377d4c54b5ec89012acedcf2",
       "version_major": 2,
       "version_minor": 0
      },
      "text/plain": [
       "Button(button_style='danger', description='🛑 Stop Script', style=ButtonStyle())"
      ]
     },
     "metadata": {},
     "output_type": "display_data"
    },
    {
     "data": {
      "application/vnd.jupyter.widget-view+json": {
       "model_id": "cac353fab2f4427e8d4b2369d25667b3",
       "version_major": 2,
       "version_minor": 0
      },
      "text/plain": [
       "Output()"
      ]
     },
     "metadata": {},
     "output_type": "display_data"
    }
   ],
   "source": [
    "# -----------------------\n",
    "# SETTINGS\n",
    "# -----------------------\n",
    "script = \"parallel_string_sizing.py\"\n",
    "log_file = \"log.txt\"\n",
    "\n",
    "# -----------------------\n",
    "# LAUNCH SCRIPT\n",
    "# -----------------------\n",
    "with open(log_file, \"w\") as logfile:\n",
    "    process = subprocess.Popen(\n",
    "        [\"python\", script],\n",
    "        stdout=logfile,\n",
    "        stderr=subprocess.STDOUT\n",
    "    )\n",
    "\n",
    "pid = process.pid\n",
    "print(f\"🚀 Script started with PID: {pid}. Output is logging to: {log_file}\")\n",
    "\n",
    "# -----------------------\n",
    "# STOP BUTTON\n",
    "# -----------------------\n",
    "stop_btn = widgets.Button(description=\"🛑 Stop Script\", button_style='danger')\n",
    "\n",
    "def stop_script(b):\n",
    "    process.terminate()\n",
    "    print(f\"🔴 Terminated script with PID {pid}\")\n",
    "\n",
    "stop_btn.on_click(stop_script)\n",
    "display.display(stop_btn)\n",
    "\n",
    "# -----------------------\n",
    "# LIVE LOG DISPLAY (last 10 lines)\n",
    "# -----------------------\n",
    "log_output = widgets.Output()\n",
    "display.display(log_output)\n",
    "\n",
    "def update_log_display():\n",
    "    while process.poll() is None:\n",
    "        with log_output:\n",
    "            log_output.clear_output(wait=True)\n",
    "            try:\n",
    "                with open(log_file, \"r\") as f:\n",
    "                    lines = f.readlines()[-10:]\n",
    "                    print(\"\".join(lines))\n",
    "            except:\n",
    "                print(\"Waiting for log...\")\n",
    "        time.sleep(2)\n",
    "\n",
    "# Start background thread to monitor log\n",
    "threading.Thread(target=update_log_display, daemon=True).start()\n"
   ]
  },
  {
   "cell_type": "code",
   "execution_count": null,
   "metadata": {},
   "outputs": [],
   "source": [
    "# Load your simulation results\n",
    "df = pd.read_csv(\"string_sizing_results.csv\")\n",
    "\n",
    "# Preview\n",
    "df.sample(10)\n"
   ]
  },
  {
   "cell_type": "code",
   "execution_count": null,
   "metadata": {},
   "outputs": [],
   "source": [
    "df[\"ExceedsLimit\"] = df[\"VocMax\"] > 1500\n"
   ]
  },
  {
   "cell_type": "code",
   "execution_count": null,
   "metadata": {},
   "outputs": [],
   "source": [
    "# Create a pivot table of max Voc across all years\n",
    "pivot = df.pivot_table(index='Module',\n",
    "                       columns='ModulesPerString',\n",
    "                       values='VocMax',\n",
    "                       aggfunc='max')\n",
    "\n",
    "# Optional: sort modules alphabetically\n",
    "pivot = pivot.sort_index()\n"
   ]
  },
  {
   "cell_type": "code",
   "execution_count": null,
   "metadata": {},
   "outputs": [],
   "source": [
    "# Add a helper column to highlight rows with any Voc > 1500V\n",
    "pivot[\"Any_Over_1500V\"] = (pivot > 1500).any(axis=1)\n"
   ]
  },
  {
   "cell_type": "code",
   "execution_count": null,
   "metadata": {},
   "outputs": [],
   "source": [
    "pivot.to_csv(\"pivot_summary_by_module.csv\")\n",
    "print(\"✅ Saved: pivot_summary_by_module.csv\")\n",
    "pivot.head(10)\n"
   ]
  },
  {
   "cell_type": "code",
   "execution_count": null,
   "metadata": {},
   "outputs": [],
   "source": [
    "# Load into DataFrame\n",
    "import seaborn as sns\n",
    "import matplotlib.pyplot as plt\n",
    "\n",
    "\n",
    "# Set seaborn style\n",
    "sns.set(style=\"darkgrid\")\n",
    "\n",
    "# FacetGrid with lineplot\n",
    "g = sns.FacetGrid(df, col=\"Module\", col_wrap=1, height=5, aspect=1.5)\n",
    "g.map_dataframe(sns.lineplot, x=\"Year\", y=\"VocMax\", hue=\"ModulesPerString\", palette=\"tab10\", marker=\"o\")\n",
    "\n",
    "# Add legend and labels\n",
    "g.add_legend(title=\"ModulesPerString\")\n",
    "g.set_titles(row_template=\"{row_name}\")\n",
    "g.set_axis_labels(\"Year\", \"VocMax\")\n",
    "plt.tight_layout()\n",
    "plt.show()\n"
   ]
  },
  {
   "cell_type": "code",
   "execution_count": null,
   "metadata": {},
   "outputs": [],
   "source": [
    "f, ax = plt.subplots(figsize=(7, 5))\n",
    "sns.despine(f)\n",
    "\n",
    "sns.histplot(\n",
    "    df,\n",
    "    x=\"VocMax\", hue=\"ModulesPerString\",\n",
    "    multiple=\"stack\",\n",
    "    palette=\"light:m_r\",\n",
    "    edgecolor=\".3\",\n",
    "    linewidth=.5,\n",
    "    log_scale=True,\n",
    ")\n",
    "ax.xaxis.set_major_formatter(mpl.ticker.ScalarFormatter())\n",
    "# ax.set_xticks([500, 1000, 2000, 5000, 10000])"
   ]
  },
  {
   "cell_type": "code",
   "execution_count": null,
   "metadata": {},
   "outputs": [],
   "source": []
  }
 ],
 "metadata": {
  "kernelspec": {
   "display_name": "py313",
   "language": "python",
   "name": "python3"
  },
  "language_info": {
   "codemirror_mode": {
    "name": "ipython",
    "version": 3
   },
   "file_extension": ".py",
   "mimetype": "text/x-python",
   "name": "python",
   "nbconvert_exporter": "python",
   "pygments_lexer": "ipython3",
   "version": "3.13.2"
  }
 },
 "nbformat": 4,
 "nbformat_minor": 2
}
