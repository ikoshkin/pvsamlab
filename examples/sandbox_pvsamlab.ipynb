{
 "cells": [
  {
   "cell_type": "code",
   "execution_count": 1,
   "metadata": {},
   "outputs": [],
   "source": [
    "from pprint import pprint\n",
    "\n",
    "from pvsamlab.system import System "
   ]
  },
  {
   "cell_type": "code",
   "execution_count": 2,
   "metadata": {},
   "outputs": [
    {
     "name": "stdout",
     "output_type": "stream",
     "text": [
      "Running simulation for modules_per_string=25\n",
      "\n",
      "Starting data download for solar using 1 thread workers.\n",
      "Getting list of available NSRDB files for 32.71595, -101.91084.\n",
      "List of available data saved to /Users/ihorkoshkin/Library/Mobile Documents/com~apple~CloudDocs/Documents/jupyter/pvsamlab/pvsamlab/data/weather_files/32.7159_-101.9108/tmy/nsrdb_data_query_response_32.71595_-101.91084.json.\n",
      "https://developer.nrel.gov/api/nsrdb/v2/solar/nsrdb-GOES-tmy-v4-0-0-download.csv?names=tmy&wkt=POINT%28-101.91084+32.71595%29&interval=60&api_key=CDO5hSAzjPS5Vrb3uyKrTw5MqDLfhyZdsr8zNaVN&email=ihorkoshkin@gmail.com&utc=false\n",
      "Downloading file.\n",
      "Success! File downloaded to /Users/ihorkoshkin/Library/Mobile Documents/com~apple~CloudDocs/Documents/jupyter/pvsamlab/pvsamlab/data/weather_files/32.7159_-101.9108/tmy/nsrdb_32.71595_-101.91084_nsrdb-GOES-tmy-v4-0-0_60_tmy.csv.\n",
      "{'ac_annual': 304115327.721309, 'voc_max': 1271.6493225097654}\n",
      "--------------------------------------------------\n",
      "Running simulation for modules_per_string=26\n",
      "\n",
      "Starting data download for solar using 1 thread workers.\n",
      "File already exists. Skipping download: /Users/ihorkoshkin/Library/Mobile Documents/com~apple~CloudDocs/Documents/jupyter/pvsamlab/pvsamlab/data/weather_files/32.7159_-101.9108/tmy/nsrdb_32.71595_-101.91084_nsrdb-GOES-tmy-v4-0-0_60_tmy.csv\n",
      "{'ac_annual': 304112818.52075475, 'voc_max': 1322.515295410156}\n",
      "--------------------------------------------------\n",
      "Running simulation for modules_per_string=27\n",
      "\n",
      "Starting data download for solar using 1 thread workers.\n",
      "File already exists. Skipping download: /Users/ihorkoshkin/Library/Mobile Documents/com~apple~CloudDocs/Documents/jupyter/pvsamlab/pvsamlab/data/weather_files/32.7159_-101.9108/tmy/nsrdb_32.71595_-101.91084_nsrdb-GOES-tmy-v4-0-0_60_tmy.csv\n",
      "{'ac_annual': 304110675.1683203, 'voc_max': 1373.3812683105466}\n",
      "--------------------------------------------------\n",
      "Running simulation for modules_per_string=28\n",
      "\n",
      "Starting data download for solar using 1 thread workers.\n",
      "File already exists. Skipping download: /Users/ihorkoshkin/Library/Mobile Documents/com~apple~CloudDocs/Documents/jupyter/pvsamlab/pvsamlab/data/weather_files/32.7159_-101.9108/tmy/nsrdb_32.71595_-101.91084_nsrdb-GOES-tmy-v4-0-0_60_tmy.csv\n",
      "{'ac_annual': 304094922.89756614, 'voc_max': 1424.2472412109373}\n",
      "--------------------------------------------------\n",
      "Running simulation for modules_per_string=29\n",
      "\n",
      "Starting data download for solar using 1 thread workers.\n",
      "File already exists. Skipping download: /Users/ihorkoshkin/Library/Mobile Documents/com~apple~CloudDocs/Documents/jupyter/pvsamlab/pvsamlab/data/weather_files/32.7159_-101.9108/tmy/nsrdb_32.71595_-101.91084_nsrdb-GOES-tmy-v4-0-0_60_tmy.csv\n",
      "{'ac_annual': 304104844.9856673, 'voc_max': 1475.1132141113278}\n",
      "--------------------------------------------------\n",
      "Running simulation for modules_per_string=30\n",
      "\n",
      "Starting data download for solar using 1 thread workers.\n",
      "File already exists. Skipping download: /Users/ihorkoshkin/Library/Mobile Documents/com~apple~CloudDocs/Documents/jupyter/pvsamlab/pvsamlab/data/weather_files/32.7159_-101.9108/tmy/nsrdb_32.71595_-101.91084_nsrdb-GOES-tmy-v4-0-0_60_tmy.csv\n",
      "{'ac_annual': 304044914.8530605, 'voc_max': 1525.9791870117185}\n",
      "--------------------------------------------------\n"
     ]
    }
   ],
   "source": [
    "for modules_per_string in range(25, 31):\n",
    "    print(f\"Running simulation for modules_per_string={modules_per_string}\")\n",
    "    plant = System(modules_per_string=modules_per_string)\n",
    "    pprint(plant.model_results)\n",
    "    print(\"-\" * 50)"
   ]
  },
  {
   "cell_type": "code",
   "execution_count": null,
   "metadata": {},
   "outputs": [],
   "source": [
    "from pvsamlab.climate import download_nsrdb_csv\n",
    "\n",
    "download_nsrdb_csv(\n",
    "    lat=30.9759,\n",
    "    lon=-97.2465,\n",
    "    start_year=2022,\n",
    "    end_year=2022,\n",
    "    frequency=\"hourly\",\n",
    "    time_zone=\"America/Los_Angeles\",\n",
    "    output_dir=\".\",\n",
    ")"
   ]
  },
  {
   "cell_type": "code",
   "execution_count": null,
   "metadata": {},
   "outputs": [],
   "source": [
    "chillingham = System(lat=30.9759, lon=-97.2465, met_year='tmy')\n",
    "print(chillingham.model_results)\n"
   ]
  },
  {
   "cell_type": "code",
   "execution_count": null,
   "metadata": {},
   "outputs": [],
   "source": [
    "for year in range(1998, 2024):\n",
    "    print(f\"Running simulation for year={year}\")\n",
    "    plant = System(lat=30.9759, lon=-97.2465, met_year=year)\n",
    "    pprint(plant.model_results)\n",
    "    print(\"-\" * 50)"
   ]
  },
  {
   "cell_type": "code",
   "execution_count": null,
   "metadata": {},
   "outputs": [],
   "source": []
  }
 ],
 "metadata": {
  "kernelspec": {
   "display_name": "py313",
   "language": "python",
   "name": "python3"
  },
  "language_info": {
   "codemirror_mode": {
    "name": "ipython",
    "version": 3
   },
   "file_extension": ".py",
   "mimetype": "text/x-python",
   "name": "python",
   "nbconvert_exporter": "python",
   "pygments_lexer": "ipython3",
   "version": "3.13.2"
  }
 },
 "nbformat": 4,
 "nbformat_minor": 2
}
