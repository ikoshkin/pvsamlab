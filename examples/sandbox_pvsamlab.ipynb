{
 "cells": [
  {
   "cell_type": "code",
   "execution_count": 1,
   "metadata": {},
   "outputs": [],
   "source": [
    "from pprint import pprint\n",
    "\n",
    "from pvsamlab.system import System "
   ]
  },
  {
   "cell_type": "code",
   "execution_count": 2,
   "metadata": {},
   "outputs": [
    {
     "name": "stdout",
     "output_type": "stream",
     "text": [
      "Running simulation for modules_per_string=25\n",
      "{'ac_annual': 303004440.6349879, 'voc_max': 1286.0765075683591}\n",
      "--------------------------------------------------\n",
      "Running simulation for modules_per_string=26\n",
      "{'ac_annual': 303004665.958397, 'voc_max': 1337.5195678710936}\n",
      "--------------------------------------------------\n",
      "Running simulation for modules_per_string=27\n",
      "{'ac_annual': 303000036.16055524, 'voc_max': 1388.9626281738279}\n",
      "--------------------------------------------------\n",
      "Running simulation for modules_per_string=28\n",
      "{'ac_annual': 302984319.60066444, 'voc_max': 1440.3848388671872}\n",
      "--------------------------------------------------\n",
      "Running simulation for modules_per_string=29\n",
      "{'ac_annual': 302990759.1831903, 'voc_max': 1491.8271545410153}\n",
      "--------------------------------------------------\n",
      "Running simulation for modules_per_string=30\n",
      "{'ac_annual': 302894452.50494397, 'voc_max': 1543.291809082031}\n",
      "--------------------------------------------------\n"
     ]
    }
   ],
   "source": [
    "for modules_per_string in range(25, 31):\n",
    "    print(f\"Running simulation for modules_per_string={modules_per_string}\")\n",
    "    plant = System(modules_per_string=modules_per_string)\n",
    "    pprint(plant.model_results)\n",
    "    print(\"-\" * 50)"
   ]
  },
  {
   "cell_type": "code",
   "execution_count": null,
   "metadata": {},
   "outputs": [],
   "source": [
    "from pvsamlab.climate import download_nsrdb_csv\n",
    "\n",
    "download_nsrdb_csv(\n",
    "    lat=30.9759,\n",
    "    lon=-97.2465,\n",
    "    start_year=2022,\n",
    "    end_year=2022,\n",
    "    frequency=\"hourly\",\n",
    "    time_zone=\"America/Los_Angeles\",\n",
    "    output_dir=\".\",\n",
    ")"
   ]
  },
  {
   "cell_type": "code",
   "execution_count": 10,
   "metadata": {},
   "outputs": [
    {
     "name": "stdout",
     "output_type": "stream",
     "text": [
      "{'ac_annual': 259242441.62802073, 'voc_max': 1410.8617919921871}\n"
     ]
    }
   ],
   "source": [
    "chillingham = System(lat=30.9759, lon=-97.2465, met_year='tmy')\n",
    "print(chillingham.model_results)\n"
   ]
  },
  {
   "cell_type": "code",
   "execution_count": 11,
   "metadata": {},
   "outputs": [
    {
     "name": "stdout",
     "output_type": "stream",
     "text": [
      "Running simulation for year=1998\n",
      "{'ac_annual': 265857900.71057835, 'voc_max': 1414.5730224609374}\n",
      "--------------------------------------------------\n",
      "Running simulation for year=1999\n",
      "{'ac_annual': 279223268.454046, 'voc_max': 1424.1638427734372}\n",
      "--------------------------------------------------\n",
      "Running simulation for year=2000\n",
      "{'ac_annual': 265263716.7917375, 'voc_max': 1406.9629150390626}\n",
      "--------------------------------------------------\n",
      "Running simulation for year=2001\n",
      "{'ac_annual': 262276390.9807356, 'voc_max': 1413.8641357421873}\n",
      "--------------------------------------------------\n",
      "Running simulation for year=2002\n",
      "{'ac_annual': 260315043.29980686, 'voc_max': 1428.1669677734374}\n",
      "--------------------------------------------------\n",
      "Running simulation for year=2003\n",
      "{'ac_annual': 252741167.7164493, 'voc_max': 1422.2456787109372}\n",
      "--------------------------------------------------\n",
      "Running simulation for year=2004\n",
      "{'ac_annual': 242414216.975923, 'voc_max': 1421.2240478515625}\n",
      "--------------------------------------------------\n",
      "Running simulation for year=2005\n",
      "{'ac_annual': 261182674.66031852, 'voc_max': 1432.0032958984373}\n",
      "--------------------------------------------------\n",
      "Running simulation for year=2006\n",
      "{'ac_annual': 269938259.0271377, 'voc_max': 1405.2115478515623}\n",
      "--------------------------------------------------\n",
      "Running simulation for year=2007\n",
      "{'ac_annual': 244523139.96739128, 'voc_max': 1409.3189208984372}\n",
      "--------------------------------------------------\n",
      "Running simulation for year=2008\n",
      "{'ac_annual': 265405857.67504287, 'voc_max': 1423.4132568359373}\n",
      "--------------------------------------------------\n",
      "Running simulation for year=2009\n",
      "{'ac_annual': 252935980.23419392, 'voc_max': 1422.7460693359374}\n",
      "--------------------------------------------------\n",
      "Running simulation for year=2010\n",
      "{'ac_annual': 267281181.95237863, 'voc_max': 1427.8542236328121}\n",
      "--------------------------------------------------\n",
      "Running simulation for year=2011\n",
      "{'ac_annual': 279196666.27958083, 'voc_max': 1441.6775146484374}\n",
      "--------------------------------------------------\n",
      "Running simulation for year=2012\n",
      "{'ac_annual': 270368998.1535835, 'voc_max': 1415.4695556640627}\n",
      "--------------------------------------------------\n",
      "Running simulation for year=2013\n",
      "{'ac_annual': 265431484.0024238, 'voc_max': 1413.9683837890625}\n",
      "--------------------------------------------------\n",
      "Running simulation for year=2014\n",
      "{'ac_annual': 262380701.16889128, 'voc_max': 1436.590209960937}\n",
      "--------------------------------------------------\n",
      "Running simulation for year=2015\n",
      "{'ac_annual': 252443536.9226086, 'voc_max': 1427.9167724609372}\n",
      "--------------------------------------------------\n",
      "Running simulation for year=2016\n",
      "{'ac_annual': 267664337.73397434, 'voc_max': 1420.4317626953125}\n",
      "--------------------------------------------------\n",
      "Running simulation for year=2017\n",
      "{'ac_annual': 266720455.9134478, 'voc_max': 1422.2456787109372}\n",
      "--------------------------------------------------\n",
      "Running simulation for year=2018\n",
      "{'ac_annual': 248216369.59677866, 'voc_max': 1424.0178955078122}\n",
      "--------------------------------------------------\n",
      "Running simulation for year=2019\n",
      "{'ac_annual': 253355878.28810257, 'voc_max': 1422.8086181640626}\n",
      "--------------------------------------------------\n",
      "Running simulation for year=2020\n",
      "{'ac_annual': 259339561.68352267, 'voc_max': 1402.1466552734373}\n",
      "--------------------------------------------------\n",
      "Running simulation for year=2021\n"
     ]
    },
    {
     "ename": "SystemError",
     "evalue": "<built-in method assign of Pvsamv1 object at 0x112af1380> returned a result with an exception set",
     "output_type": "error",
     "traceback": [
      "\u001b[31m---------------------------------------------------------------------------\u001b[39m",
      "\u001b[31mException\u001b[39m                                 Traceback (most recent call last)",
      "\u001b[31mException\u001b[39m: SolarResource error: solar_resource_file assignment value must be numeric, string, tuple or dict.",
      "\nThe above exception was the direct cause of the following exception:\n",
      "\u001b[31mSystemError\u001b[39m                               Traceback (most recent call last)",
      "\u001b[36mCell\u001b[39m\u001b[36m \u001b[39m\u001b[32mIn[11]\u001b[39m\u001b[32m, line 3\u001b[39m\n\u001b[32m      1\u001b[39m \u001b[38;5;28;01mfor\u001b[39;00m year \u001b[38;5;129;01min\u001b[39;00m \u001b[38;5;28mrange\u001b[39m(\u001b[32m1998\u001b[39m, \u001b[32m2024\u001b[39m):\n\u001b[32m      2\u001b[39m     \u001b[38;5;28mprint\u001b[39m(\u001b[33mf\u001b[39m\u001b[33m\"\u001b[39m\u001b[33mRunning simulation for year=\u001b[39m\u001b[38;5;132;01m{\u001b[39;00myear\u001b[38;5;132;01m}\u001b[39;00m\u001b[33m\"\u001b[39m)\n\u001b[32m----> \u001b[39m\u001b[32m3\u001b[39m     plant = \u001b[43mSystem\u001b[49m\u001b[43m(\u001b[49m\u001b[43mlat\u001b[49m\u001b[43m=\u001b[49m\u001b[32;43m30.9759\u001b[39;49m\u001b[43m,\u001b[49m\u001b[43m \u001b[49m\u001b[43mlon\u001b[49m\u001b[43m=\u001b[49m\u001b[43m-\u001b[49m\u001b[32;43m97.2465\u001b[39;49m\u001b[43m,\u001b[49m\u001b[43m \u001b[49m\u001b[43mmet_year\u001b[49m\u001b[43m=\u001b[49m\u001b[43myear\u001b[49m\u001b[43m)\u001b[49m\n\u001b[32m      4\u001b[39m     pprint(plant.model_results)\n\u001b[32m      5\u001b[39m     \u001b[38;5;28mprint\u001b[39m(\u001b[33m\"\u001b[39m\u001b[33m-\u001b[39m\u001b[33m\"\u001b[39m * \u001b[32m50\u001b[39m)\n",
      "\u001b[36mFile \u001b[39m\u001b[32m<string>:22\u001b[39m, in \u001b[36m__init__\u001b[39m\u001b[34m(self, target_kwac, target_dcac, met_year, lat, lon, module, module_model, system_voltage, modules_per_string, tracking_mode, module_orientation, n_modules_x, tilt, azimuth, rotation_limit, backtracking, gcr, bifacial_ground_clearance, inverter, inverter_derate, inverter_mppt_input, inv_tdc_ds, model)\u001b[39m\n",
      "\u001b[36mFile \u001b[39m\u001b[32m~/Library/Mobile Documents/com~apple~CloudDocs/Documents/jupyter/pvsamlab/pvsamlab/system.py:141\u001b[39m, in \u001b[36mSystem.__post_init__\u001b[39m\u001b[34m(self, target_kwac, target_dcac, met_year, modules_per_string)\u001b[39m\n\u001b[32m    138\u001b[39m \u001b[38;5;28mself\u001b[39m.dc_ac_ratio = \u001b[38;5;28mround\u001b[39m(\u001b[38;5;28mself\u001b[39m.kwdc / \u001b[38;5;28mself\u001b[39m.kwac, \u001b[32m3\u001b[39m)\n\u001b[32m    140\u001b[39m \u001b[38;5;66;03m# Model\u001b[39;00m\n\u001b[32m--> \u001b[39m\u001b[32m141\u001b[39m \u001b[38;5;28;43mself\u001b[39;49m\u001b[43m.\u001b[49m\u001b[43mmodel\u001b[49m\u001b[43m.\u001b[49m\u001b[43massign\u001b[49m\u001b[43m(\u001b[49m\u001b[43mgenerate_pysam_inputs\u001b[49m\u001b[43m(\u001b[49m\u001b[38;5;28;43mself\u001b[39;49m\u001b[43m)\u001b[49m\u001b[43m)\u001b[49m\n\u001b[32m    142\u001b[39m \u001b[38;5;66;03m# self.model.replace(generate_pysam_inputs(self))\u001b[39;00m\n\u001b[32m    144\u001b[39m \u001b[38;5;28mself\u001b[39m.model.execute()\n",
      "\u001b[31mSystemError\u001b[39m: <built-in method assign of Pvsamv1 object at 0x112af1380> returned a result with an exception set"
     ]
    }
   ],
   "source": [
    "for year in range(1998, 2024):\n",
    "    print(f\"Running simulation for year={year}\")\n",
    "    plant = System(lat=30.9759, lon=-97.2465, met_year=year)\n",
    "    pprint(plant.model_results)\n",
    "    print(\"-\" * 50)"
   ]
  },
  {
   "cell_type": "code",
   "execution_count": null,
   "metadata": {},
   "outputs": [],
   "source": []
  }
 ],
 "metadata": {
  "kernelspec": {
   "display_name": "py313",
   "language": "python",
   "name": "python3"
  },
  "language_info": {
   "codemirror_mode": {
    "name": "ipython",
    "version": 3
   },
   "file_extension": ".py",
   "mimetype": "text/x-python",
   "name": "python",
   "nbconvert_exporter": "python",
   "pygments_lexer": "ipython3",
   "version": "3.13.2"
  }
 },
 "nbformat": 4,
 "nbformat_minor": 2
}
