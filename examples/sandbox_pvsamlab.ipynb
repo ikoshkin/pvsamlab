{
 "cells": [
  {
   "cell_type": "code",
   "execution_count": 1,
   "metadata": {},
   "outputs": [],
   "source": [
    "from pprint import pprint\n",
    "\n",
    "from pvsamlab.system import System "
   ]
  },
  {
   "cell_type": "code",
   "execution_count": 2,
   "metadata": {},
   "outputs": [
    {
     "name": "stdout",
     "output_type": "stream",
     "text": [
      "Running simulation for modules_per_string=25\n",
      "{'ac_annual': 303004440.6349879, 'voc_max': 1286.0765075683591}\n",
      "--------------------------------------------------\n",
      "Running simulation for modules_per_string=26\n",
      "{'ac_annual': 303004665.958397, 'voc_max': 1337.5195678710936}\n",
      "--------------------------------------------------\n",
      "Running simulation for modules_per_string=27\n",
      "{'ac_annual': 303000036.16055524, 'voc_max': 1388.9626281738279}\n",
      "--------------------------------------------------\n",
      "Running simulation for modules_per_string=28\n",
      "{'ac_annual': 302984319.60066444, 'voc_max': 1440.3848388671872}\n",
      "--------------------------------------------------\n",
      "Running simulation for modules_per_string=29\n",
      "{'ac_annual': 302990759.1831903, 'voc_max': 1491.8271545410153}\n",
      "--------------------------------------------------\n",
      "Running simulation for modules_per_string=30\n",
      "{'ac_annual': 302894452.50494397, 'voc_max': 1543.291809082031}\n",
      "--------------------------------------------------\n"
     ]
    }
   ],
   "source": [
    "for modules_per_string in range(25, 31):\n",
    "    print(f\"Running simulation for modules_per_string={modules_per_string}\")\n",
    "    plant = System(modules_per_string=modules_per_string)\n",
    "    pprint(plant.model_results)\n",
    "    print(\"-\" * 50)"
   ]
  },
  {
   "cell_type": "code",
   "execution_count": null,
   "metadata": {},
   "outputs": [],
   "source": []
  }
 ],
 "metadata": {
  "kernelspec": {
   "display_name": "py313",
   "language": "python",
   "name": "python3"
  },
  "language_info": {
   "codemirror_mode": {
    "name": "ipython",
    "version": 3
   },
   "file_extension": ".py",
   "mimetype": "text/x-python",
   "name": "python",
   "nbconvert_exporter": "python",
   "pygments_lexer": "ipython3",
   "version": "3.13.2"
  }
 },
 "nbformat": 4,
 "nbformat_minor": 2
}
