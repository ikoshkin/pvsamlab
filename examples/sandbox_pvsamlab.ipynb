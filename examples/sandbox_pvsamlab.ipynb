{
 "cells": [
  {
   "cell_type": "code",
   "execution_count": 8,
   "metadata": {},
   "outputs": [
    {
     "ename": "Exception",
     "evalue": "albedo error: Pvsamv1 error accessing variable albedo. Either parameter does not exist or is not numeric type.",
     "output_type": "error",
     "traceback": [
      "\u001b[31m---------------------------------------------------------------------------\u001b[39m",
      "\u001b[31mException\u001b[39m                                 Traceback (most recent call last)",
      "\u001b[36mCell\u001b[39m\u001b[36m \u001b[39m\u001b[32mIn[8]\u001b[39m\u001b[32m, line 4\u001b[39m\n\u001b[32m      1\u001b[39m \u001b[38;5;28;01mfrom\u001b[39;00m\u001b[38;5;250m \u001b[39m\u001b[34;01mpvsamlab\u001b[39;00m\u001b[34;01m.\u001b[39;00m\u001b[34;01mmodels\u001b[39;00m\u001b[38;5;250m \u001b[39m\u001b[38;5;28;01mimport\u001b[39;00m PVSystem, SolarResource, SystemDesign, Losses, Module, Inverter\n\u001b[32m      3\u001b[39m \u001b[38;5;66;03m# Step 1: Create a PVSystem Instance with Custom Parameters\u001b[39;00m\n\u001b[32m----> \u001b[39m\u001b[32m4\u001b[39m pv_system = \u001b[43mPVSystem\u001b[49m\u001b[43m(\u001b[49m\n\u001b[32m      5\u001b[39m \u001b[43m    \u001b[49m\u001b[43msolar_resource\u001b[49m\u001b[43m=\u001b[49m\u001b[43mSolarResource\u001b[49m\u001b[43m(\u001b[49m\n\u001b[32m      6\u001b[39m \u001b[43m        \u001b[49m\u001b[43malbedo\u001b[49m\u001b[43m=\u001b[49m\u001b[32;43m0.18\u001b[39;49m\u001b[43m,\u001b[49m\u001b[43m  \u001b[49m\u001b[38;5;66;43;03m# Monthly albedo value\u001b[39;49;00m\n\u001b[32m      7\u001b[39m \u001b[43m        \u001b[49m\u001b[43mirrad_mode\u001b[49m\u001b[43m=\u001b[49m\u001b[32;43m1\u001b[39;49m\u001b[43m,\u001b[49m\u001b[43m  \u001b[49m\u001b[38;5;66;43;03m# Perez model\u001b[39;49;00m\n\u001b[32m      8\u001b[39m \u001b[43m        \u001b[49m\u001b[43msky_model\u001b[49m\u001b[43m=\u001b[49m\u001b[32;43m3\u001b[39;49m\n\u001b[32m      9\u001b[39m \u001b[43m    \u001b[49m\u001b[43m)\u001b[49m\u001b[43m,\u001b[49m\n\u001b[32m     10\u001b[39m \u001b[43m    \u001b[49m\u001b[43msystem_design\u001b[49m\u001b[43m=\u001b[49m\u001b[43mSystemDesign\u001b[49m\u001b[43m(\u001b[49m\n\u001b[32m     11\u001b[39m \u001b[43m        \u001b[49m\u001b[43msystem_capacity\u001b[49m\u001b[43m=\u001b[49m\u001b[32;43m50000.0\u001b[39;49m\u001b[43m,\u001b[49m\u001b[43m  \u001b[49m\u001b[38;5;66;43;03m# 50 MW DC system\u001b[39;49;00m\n\u001b[32m     12\u001b[39m \u001b[43m        \u001b[49m\u001b[43minverter_count\u001b[49m\u001b[43m=\u001b[49m\u001b[32;43m25\u001b[39;49m\u001b[43m,\u001b[49m\u001b[43m  \u001b[49m\u001b[38;5;66;43;03m# 25 inverters\u001b[39;49;00m\n\u001b[32m     13\u001b[39m \u001b[43m        \u001b[49m\u001b[43msubarray1_gcr\u001b[49m\u001b[43m=\u001b[49m\u001b[32;43m0.28\u001b[39;49m\n\u001b[32m     14\u001b[39m \u001b[43m    \u001b[49m\u001b[43m)\u001b[49m\u001b[43m,\u001b[49m\n\u001b[32m     15\u001b[39m \u001b[43m    \u001b[49m\u001b[43mlosses\u001b[49m\u001b[43m=\u001b[49m\u001b[43mLosses\u001b[49m\u001b[43m(\u001b[49m\n\u001b[32m     16\u001b[39m \u001b[43m        \u001b[49m\u001b[43macwiring_loss\u001b[49m\u001b[43m=\u001b[49m\u001b[32;43m1.2\u001b[39;49m\u001b[43m,\u001b[49m\n\u001b[32m     17\u001b[39m \u001b[43m        \u001b[49m\u001b[43msubarray1_dcwiring_loss\u001b[49m\u001b[43m=\u001b[49m\u001b[32;43m2.5\u001b[39;49m\u001b[43m,\u001b[49m\n\u001b[32m     18\u001b[39m \u001b[43m        \u001b[49m\u001b[43msubarray1_soiling\u001b[49m\u001b[43m=\u001b[49m\u001b[32;43m4.0\u001b[39;49m\u001b[43m  \u001b[49m\u001b[38;5;66;43;03m# Monthly soiling loss\u001b[39;49;00m\n\u001b[32m     19\u001b[39m \u001b[43m    \u001b[49m\u001b[43m)\u001b[49m\u001b[43m,\u001b[49m\n\u001b[32m     20\u001b[39m \u001b[43m    \u001b[49m\u001b[43mmodule\u001b[49m\u001b[43m=\u001b[49m\u001b[43mModule\u001b[49m\u001b[43m(\u001b[49m\n\u001b[32m     21\u001b[39m \u001b[43m        \u001b[49m\u001b[43mv_oc\u001b[49m\u001b[43m=\u001b[49m\u001b[32;43m65.0\u001b[39;49m\u001b[43m,\u001b[49m\n\u001b[32m     22\u001b[39m \u001b[43m        \u001b[49m\u001b[43mi_sc\u001b[49m\u001b[43m=\u001b[49m\u001b[32;43m6.2\u001b[39;49m\u001b[43m,\u001b[49m\n\u001b[32m     23\u001b[39m \u001b[43m        \u001b[49m\u001b[43mv_mp\u001b[49m\u001b[43m=\u001b[49m\u001b[32;43m55.0\u001b[39;49m\u001b[43m,\u001b[49m\n\u001b[32m     24\u001b[39m \u001b[43m        \u001b[49m\u001b[43mi_mp\u001b[49m\u001b[43m=\u001b[49m\u001b[32;43m5.8\u001b[39;49m\u001b[43m,\u001b[49m\n\u001b[32m     25\u001b[39m \u001b[43m        \u001b[49m\u001b[43marea\u001b[49m\u001b[43m=\u001b[49m\u001b[32;43m1.64\u001b[39;49m\n\u001b[32m     26\u001b[39m \u001b[43m    \u001b[49m\u001b[43m)\u001b[49m\u001b[43m,\u001b[49m\n\u001b[32m     27\u001b[39m \u001b[43m    \u001b[49m\u001b[43minverter\u001b[49m\u001b[43m=\u001b[49m\u001b[43mInverter\u001b[49m\u001b[43m(\u001b[49m\n\u001b[32m     28\u001b[39m \u001b[43m        \u001b[49m\u001b[43mpaco\u001b[49m\u001b[43m=\u001b[49m\u001b[32;43m4000.0\u001b[39;49m\u001b[43m,\u001b[49m\u001b[43m  \u001b[49m\u001b[38;5;66;43;03m# 4 kW max AC power\u001b[39;49;00m\n\u001b[32m     29\u001b[39m \u001b[43m        \u001b[49m\u001b[43mefficiency\u001b[49m\u001b[43m=\u001b[49m\u001b[32;43m97.5\u001b[39;49m\n\u001b[32m     30\u001b[39m \u001b[43m    \u001b[49m\u001b[43m)\u001b[49m\n\u001b[32m     31\u001b[39m \u001b[43m)\u001b[49m\n\u001b[32m     33\u001b[39m \u001b[38;5;66;03m# Step 2: Retrieve and Print Initial Outputs\u001b[39;00m\n\u001b[32m     34\u001b[39m \u001b[38;5;28mprint\u001b[39m(\u001b[33m\"\u001b[39m\u001b[33m✅ Initial Simulation Results:\u001b[39m\u001b[33m\"\u001b[39m)\n",
      "\u001b[36mFile \u001b[39m\u001b[32m<string>:8\u001b[39m, in \u001b[36m__init__\u001b[39m\u001b[34m(self, solar_resource, system_design, losses, module, inverter)\u001b[39m\n",
      "\u001b[36mFile \u001b[39m\u001b[32m~/Library/Mobile Documents/com~apple~CloudDocs/Documents/jupyter/pvsamlab/pvsamlab/models.py:73\u001b[39m, in \u001b[36mPVSystem.__post_init__\u001b[39m\u001b[34m(self)\u001b[39m\n\u001b[32m     71\u001b[39m \u001b[38;5;250m\u001b[39m\u001b[33;03m\"\"\"Initializes and runs the PySAM model.\"\"\"\u001b[39;00m\n\u001b[32m     72\u001b[39m \u001b[38;5;28mself\u001b[39m.model = pv.default(\u001b[33m\"\u001b[39m\u001b[33mFlatPlatePVNone\u001b[39m\u001b[33m\"\u001b[39m)\n\u001b[32m---> \u001b[39m\u001b[32m73\u001b[39m \u001b[38;5;28;43mself\u001b[39;49m\u001b[43m.\u001b[49m\u001b[43massign_inputs\u001b[49m\u001b[43m(\u001b[49m\u001b[43m)\u001b[49m\n\u001b[32m     74\u001b[39m \u001b[38;5;28mself\u001b[39m.run_simulation()\n",
      "\u001b[36mFile \u001b[39m\u001b[32m~/Library/Mobile Documents/com~apple~CloudDocs/Documents/jupyter/pvsamlab/pvsamlab/models.py:78\u001b[39m, in \u001b[36massign_inputs\u001b[39m\u001b[34m(self)\u001b[39m\n\u001b[32m     68\u001b[39m modules_per_string = \u001b[32m20\u001b[39m\n\u001b[32m     69\u001b[39m n_strings = total_modules // modules_per_string\n\u001b[32m     71\u001b[39m \u001b[38;5;28mself\u001b[39m.pysam_inputs = {\n\u001b[32m     72\u001b[39m     \u001b[33m\"\u001b[39m\u001b[33msystem_capacity\u001b[39m\u001b[33m\"\u001b[39m: \u001b[38;5;28mself\u001b[39m.system_capacity,\n\u001b[32m     73\u001b[39m     \u001b[33m\"\u001b[39m\u001b[33msubarray1_nstrings\u001b[39m\u001b[33m\"\u001b[39m: n_strings,\n\u001b[32m     74\u001b[39m     \u001b[33m\"\u001b[39m\u001b[33msubarray1_modules_per_string\u001b[39m\u001b[33m\"\u001b[39m: modules_per_string,\n\u001b[32m     75\u001b[39m     \u001b[33m\"\u001b[39m\u001b[33msubarray1_gcr\u001b[39m\u001b[33m\"\u001b[39m: \u001b[38;5;28mself\u001b[39m.gcr,\n\u001b[32m     76\u001b[39m     \u001b[33m\"\u001b[39m\u001b[33minverter_count\u001b[39m\u001b[33m\"\u001b[39m: \u001b[38;5;28mround\u001b[39m(\u001b[38;5;28mself\u001b[39m.mwac * \u001b[32m1000\u001b[39m / (\u001b[38;5;28mself\u001b[39m.dcac_ratio * \u001b[32m4000\u001b[39m)),\n\u001b[32m     77\u001b[39m     \u001b[33m\"\u001b[39m\u001b[33minv_ds_eff\u001b[39m\u001b[33m\"\u001b[39m: \u001b[38;5;28mself\u001b[39m.inverter_efficiency\n\u001b[32m---> \u001b[39m\u001b[32m78\u001b[39m }\n",
      "\u001b[31mException\u001b[39m: albedo error: Pvsamv1 error accessing variable albedo. Either parameter does not exist or is not numeric type."
     ]
    }
   ],
   "source": [
    "from pvsamlab.models import PVSystem, SolarResource, SystemDesign, Losses, Module, Inverter\n",
    "\n",
    "# Step 1: Create a PVSystem Instance with Custom Parameters\n",
    "pv_system = PVSystem(\n",
    "    solar_resource=SolarResource(\n",
    "        albedo=0.18,  # Monthly albedo value\n",
    "        irrad_mode=1,  # Perez model\n",
    "        sky_model=3\n",
    "    ),\n",
    "    system_design=SystemDesign(\n",
    "        system_capacity=50000.0,  # 50 MW DC system\n",
    "        inverter_count=25,  # 25 inverters\n",
    "        subarray1_gcr=0.28\n",
    "    ),\n",
    "    losses=Losses(\n",
    "        acwiring_loss=1.2,\n",
    "        subarray1_dcwiring_loss=2.5,\n",
    "        subarray1_soiling=4.0  # Monthly soiling loss\n",
    "    ),\n",
    "    module=Module(\n",
    "        v_oc=65.0,\n",
    "        i_sc=6.2,\n",
    "        v_mp=55.0,\n",
    "        i_mp=5.8,\n",
    "        area=1.64\n",
    "    ),\n",
    "    inverter=Inverter(\n",
    "        paco=4000.0,  # 4 kW max AC power\n",
    "        efficiency=97.5\n",
    "    )\n",
    ")\n",
    "\n",
    "# Step 2: Retrieve and Print Initial Outputs\n",
    "print(\"✅ Initial Simulation Results:\")\n",
    "print(f\"📊 Annual Energy: {pv_system.outputs['mwh_per_year']} MWh\")\n",
    "print(f\"⚡ Capacity Factor: {pv_system.outputs['mwh_per_year'] / (pv_system.system_capacity * 8.76) * 100:.2f}%\")\n",
    "print(f\"🔋 Inverter Efficiency Loss: {pv_system.outputs['energy_losses_summary'].get('inverter_efficiency_loss', 'N/A')}%\")\n",
    "\n",
    "# Step 3: Dynamically Update a Parameter Using `update_parameter()`\n",
    "print(\"\\n🔄 Updating Inverter Count...\")\n",
    "pv_system.update_parameter(\"system_design\", \"inverter_count\", 30)\n",
    "\n",
    "# Step 4: Retrieve and Print Updated Outputs\n",
    "print(\"✅ Updated Simulation Results:\")\n",
    "print(f\"📊 Annual Energy: {pv_system.outputs['mwh_per_year']} MWh\")\n",
    "print(f\"⚡ Capacity Factor: {pv_system.outputs['mwh_per_year'] / (pv_system.system_capacity * 8.76) * 100:.2f}%\")\n",
    "print(f\"🔋 Inverter Efficiency Loss: {pv_system.outputs['energy_losses_summary'].get('inverter_efficiency_loss', 'N/A')}%\")\n"
   ]
  },
  {
   "cell_type": "code",
   "execution_count": 3,
   "metadata": {},
   "outputs": [
    {
     "ename": "NameError",
     "evalue": "name 'pv_system' is not defined",
     "output_type": "error",
     "traceback": [
      "\u001b[31m---------------------------------------------------------------------------\u001b[39m",
      "\u001b[31mNameError\u001b[39m                                 Traceback (most recent call last)",
      "\u001b[36mCell\u001b[39m\u001b[36m \u001b[39m\u001b[32mIn[3]\u001b[39m\u001b[32m, line 1\u001b[39m\n\u001b[32m----> \u001b[39m\u001b[32m1\u001b[39m \u001b[43mpv_system\u001b[49m\n",
      "\u001b[31mNameError\u001b[39m: name 'pv_system' is not defined"
     ]
    }
   ],
   "source": [
    "pv_system"
   ]
  },
  {
   "cell_type": "code",
   "execution_count": 7,
   "metadata": {},
   "outputs": [
    {
     "data": {
      "text/plain": [
       "Module(model_type=2, v_oc=65.0, i_sc=6.2, v_mp=55.0, i_mp=5.8, area=1.64, n_series=96, t_noct=46.0, standoff=6.0, mounting=0, is_bifacial=False, bifacial_transmission_factor=0.013, bifaciality=0.7)"
      ]
     },
     "execution_count": 7,
     "metadata": {},
     "output_type": "execute_result"
    }
   ],
   "source": [
    "Module(\n",
    "        model_type=2,  # 6-parameter model\n",
    "        v_oc=65.0,\n",
    "        i_sc=6.2,\n",
    "        v_mp=55.0,\n",
    "        i_mp=5.8,\n",
    "        area=1.64\n",
    "    )"
   ]
  },
  {
   "cell_type": "code",
   "execution_count": 1,
   "metadata": {},
   "outputs": [
    {
     "name": "stdout",
     "output_type": "stream",
     "text": [
      "{\n",
      "    \"lat\": 0.0,\n",
      "    \"lon\": 0.0,\n",
      "    \"elev\": 0.0,\n",
      "    \"tz\": 0\n",
      "}\n"
     ]
    }
   ],
   "source": [
    "from pvsamlab.models import Location, PVSystem, Module, Inverter, Losses, SystemDesign, SolarResource\n",
    "\n",
    "# Create a PVSystem instance with default parameters\n",
    "\n",
    "print(Location())"
   ]
  },
  {
   "cell_type": "code",
   "execution_count": 2,
   "metadata": {},
   "outputs": [
    {
     "name": "stderr",
     "output_type": "stream",
     "text": [
      "2025-03-07 18:16:33,342 - ERROR - ❌ PAN file not found: /Users/ihorkoshkin/Library/Mobile Documents/com~apple~CloudDocs/Documents/jupyter/pvsamlab/pvsamlab/data/modules/JAM66D45-640LB(3.2+2.0mm).PAN\n"
     ]
    },
    {
     "data": {
      "text/plain": [
       "{\n",
       "    \"module_model\": 2,\n",
       "    \"params\": {}\n",
       "}"
      ]
     },
     "execution_count": 2,
     "metadata": {},
     "output_type": "execute_result"
    }
   ],
   "source": [
    "Module()"
   ]
  },
  {
   "cell_type": "code",
   "execution_count": 4,
   "metadata": {},
   "outputs": [
    {
     "name": "stderr",
     "output_type": "stream",
     "text": [
      "2025-03-07 18:16:59,530 - ERROR - ❌ OND file not found: /Users/ihorkoshkin/Library/Mobile Documents/com~apple~CloudDocs/Documents/jupyter/pvsamlab/pvsamlab/data/inverters/Sungrow_SG4400UD-MV-US_20230817_V14_PVsyst.6.8.6（New Version).OND\n"
     ]
    },
    {
     "data": {
      "text/plain": [
       "{\n",
       "    \"inverter_model\": 1,\n",
       "    \"params\": {}\n",
       "}"
      ]
     },
     "execution_count": 4,
     "metadata": {},
     "output_type": "execute_result"
    }
   ],
   "source": [
    "Inverter()"
   ]
  },
  {
   "cell_type": "code",
   "execution_count": 5,
   "metadata": {},
   "outputs": [
    {
     "data": {
      "text/plain": [
       "{\n",
       "    \"use_wf_albedo\": 0,\n",
       "    \"irrad_mode\": 0,\n",
       "    \"sky_model\": 2,\n",
       "    \"solar_resource_file\": \"data/weather_files/default_weather.csv\",\n",
       "    \"solar_resource_data\": null\n",
       "}"
      ]
     },
     "execution_count": 5,
     "metadata": {},
     "output_type": "execute_result"
    }
   ],
   "source": [
    "SolarResource()"
   ]
  },
  {
   "cell_type": "code",
   "execution_count": 6,
   "metadata": {},
   "outputs": [
    {
     "data": {
      "text/plain": [
       "{\n",
       "    \"kwac\": 100000,\n",
       "    \"target_dcac_ratio\": 1.35,\n",
       "    \"system_voltage\": 1500,\n",
       "    \"system_capacity\": 135000.0,\n",
       "    \"inverter_count\": null,\n",
       "    \"subarray1_nstrings\": null,\n",
       "    \"subarray1_modules_per_string\": null,\n",
       "    \"subarray1_track_mode\": 1,\n",
       "    \"subarray1_tilt\": 0.0,\n",
       "    \"subarray1_azimuth\": 180.0,\n",
       "    \"subarray1_backtrack\": 1,\n",
       "    \"subarray1_gcr\": 0.33,\n",
       "    \"mppt_low_inverter\": 250.0,\n",
       "    \"mppt_hi_inverter\": 800.0,\n",
       "    \"dcac_ratio\": null\n",
       "}"
      ]
     },
     "execution_count": 6,
     "metadata": {},
     "output_type": "execute_result"
    }
   ],
   "source": [
    "SystemDesign()"
   ]
  },
  {
   "cell_type": "code",
   "execution_count": 7,
   "metadata": {},
   "outputs": [
    {
     "data": {
      "text/plain": [
       "{\n",
       "    \"acwiring_loss\": 1.0,\n",
       "    \"subarray1_dcwiring_loss\": 2.0,\n",
       "    \"subarray1_soiling\": 5.0\n",
       "}"
      ]
     },
     "execution_count": 7,
     "metadata": {},
     "output_type": "execute_result"
    }
   ],
   "source": [
    "Losses()"
   ]
  },
  {
   "cell_type": "code",
   "execution_count": 8,
   "metadata": {},
   "outputs": [
    {
     "name": "stderr",
     "output_type": "stream",
     "text": [
      "2025-03-07 18:17:57,752 - ERROR - ❌ PAN file not found: /Users/ihorkoshkin/Library/Mobile Documents/com~apple~CloudDocs/Documents/jupyter/pvsamlab/pvsamlab/data/modules/JAM66D45-640LB(3.2+2.0mm).PAN\n",
      "2025-03-07 18:17:57,754 - ERROR - ❌ OND file not found: /Users/ihorkoshkin/Library/Mobile Documents/com~apple~CloudDocs/Documents/jupyter/pvsamlab/pvsamlab/data/inverters/Sungrow_SG4400UD-MV-US_20230817_V14_PVsyst.6.8.6（New Version).OND\n"
     ]
    },
    {
     "ename": "Exception",
     "evalue": "subarray1_nstrings error: subarray1_nstrings assignment value must be numeric, string, tuple or dict.",
     "output_type": "error",
     "traceback": [
      "\u001b[31m---------------------------------------------------------------------------\u001b[39m",
      "\u001b[31mException\u001b[39m                                 Traceback (most recent call last)",
      "\u001b[36mCell\u001b[39m\u001b[36m \u001b[39m\u001b[32mIn[8]\u001b[39m\u001b[32m, line 1\u001b[39m\n\u001b[32m----> \u001b[39m\u001b[32m1\u001b[39m \u001b[43mPVSystem\u001b[49m\u001b[43m(\u001b[49m\u001b[43m)\u001b[49m\n",
      "\u001b[36mFile \u001b[39m\u001b[32m~/Library/Mobile Documents/com~apple~CloudDocs/Documents/jupyter/pvsamlab/pvsamlab/models.py:120\u001b[39m, in \u001b[36mPVSystem.__init__\u001b[39m\u001b[34m(self, kwac, target_dcac_ratio, module_model, solar_resource, system_design, losses, module, inverter)\u001b[39m\n\u001b[32m    117\u001b[39m \u001b[38;5;28mself\u001b[39m.losses = losses \u001b[38;5;28;01mif\u001b[39;00m losses \u001b[38;5;28;01melse\u001b[39;00m Losses()\n\u001b[32m    119\u001b[39m \u001b[38;5;28mself\u001b[39m.compute_pysam_inputs()\n\u001b[32m--> \u001b[39m\u001b[32m120\u001b[39m \u001b[38;5;28;43mself\u001b[39;49m\u001b[43m.\u001b[49m\u001b[43massign_inputs\u001b[49m\u001b[43m(\u001b[49m\u001b[43m)\u001b[49m\n\u001b[32m    121\u001b[39m \u001b[38;5;28mself\u001b[39m.run_simulation()\n",
      "\u001b[36mFile \u001b[39m\u001b[32m~/Library/Mobile Documents/com~apple~CloudDocs/Documents/jupyter/pvsamlab/pvsamlab/models.py:136\u001b[39m, in \u001b[36mPVSystem.assign_inputs\u001b[39m\u001b[34m(self)\u001b[39m\n\u001b[32m    134\u001b[39m \u001b[38;5;28;01mdef\u001b[39;00m\u001b[38;5;250m \u001b[39m\u001b[34massign_inputs\u001b[39m(\u001b[38;5;28mself\u001b[39m):\n\u001b[32m    135\u001b[39m     \u001b[38;5;28mself\u001b[39m.model = pv.default(\u001b[33m\"\u001b[39m\u001b[33mFlatPlatePVNone\u001b[39m\u001b[33m\"\u001b[39m)\n\u001b[32m--> \u001b[39m\u001b[32m136\u001b[39m     \u001b[38;5;28;43mself\u001b[39;49m\u001b[43m.\u001b[49m\u001b[43mmodel\u001b[49m\u001b[43m.\u001b[49m\u001b[43mSystemDesign\u001b[49m\u001b[43m.\u001b[49m\u001b[43massign\u001b[49m\u001b[43m(\u001b[49m\u001b[38;5;28;43mself\u001b[39;49m\u001b[43m.\u001b[49m\u001b[43mpysam_inputs\u001b[49m\u001b[43m)\u001b[49m\n",
      "\u001b[31mException\u001b[39m: subarray1_nstrings error: subarray1_nstrings assignment value must be numeric, string, tuple or dict."
     ]
    }
   ],
   "source": [
    "PVSystem()"
   ]
  },
  {
   "cell_type": "code",
   "execution_count": null,
   "metadata": {},
   "outputs": [],
   "source": []
  }
 ],
 "metadata": {
  "kernelspec": {
   "display_name": "py313",
   "language": "python",
   "name": "python3"
  },
  "language_info": {
   "codemirror_mode": {
    "name": "ipython",
    "version": 3
   },
   "file_extension": ".py",
   "mimetype": "text/x-python",
   "name": "python",
   "nbconvert_exporter": "python",
   "pygments_lexer": "ipython3",
   "version": "3.13.2"
  }
 },
 "nbformat": 4,
 "nbformat_minor": 2
}
